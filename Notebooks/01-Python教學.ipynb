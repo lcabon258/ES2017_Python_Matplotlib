{
 "cells": [
  {
   "cell_type": "code",
   "execution_count": null,
   "metadata": {
    "collapsed": true
   },
   "outputs": [],
   "source": [
    "%matplotlib inline"
   ]
  },
  {
   "cell_type": "markdown",
   "metadata": {},
   "source": [
    "# Python 入門與 Matplotlib 繪圖入門  \n",
    "\n",
    "# 第一部份：Python簡介\n",
    "\n",
    "![Python Logo](./img/Python.png)\n",
    "\n",
    "* 高階程式語言\n",
    "* 設計哲學：可讀性與簡潔的語法  \n",
    "* 直譯式語言 （interpreted language）  \n",
    "\t* -> 說一句做一件事 -> 互動模式讓你快速測試與除錯👍🏻  \n",
    "\t* <->編譯語言（ Compiled language ）需要先將腳本（Script）完整編譯成機器語言後再執行，較有效率（如 C, Fortran等）  \n",
    "* 動態型別，使用方便。（初始化時不需指定型別）  \n",
    "* 兼容並蓄，擴充性強。（可用不同語言撰寫套件給Python用）  \n",
    "* 使用：科學運算、GIS系統、網路爬蟲等等  \n",
    "\n",
    "***\n",
    "\n",
    "## Anaconda：Python 發行版\n",
    "![Anaconda Picture](./img/Anaconda.png)\n",
    "\n",
    "* 為了科學運算特別包裝的套裝發行版。\n",
    "* 已經預先安裝許多科學運算用的套件。\n",
    "* 有專屬的 IDE: **Spyder** 方便快速Coding。\n",
    "![Spyder app](./img/Spyder.png)\n",
    "* CONDA：Python 的套件管理工具，方便安裝各類套件。\n",
    "\t* 安裝： ```conda install --channel conda-forge boltons```\n",
    "\t* 更新套件：```conda update scipy```\n",
    "\t* 更新conda：```conda update conda```\n",
    "\t* 其他應用請參考：[Conda官網](https://conda.io/docs/_downloads/conda-cheatsheet.pdf)\n",
    "\n",
    "***\n",
    "\n",
    "## 型別介紹：\n",
    "* 文字 String  ```a=apple```\n",
    "* 整數 integer ```b=1```\n",
    "* 浮點數 float ```c=3.14```\n",
    "* 清單 list    ```d=[]```\n",
    "* 元組 tuple   ```e=()```\n",
    "List 和 Tuple的差異在於可不可以變換內容\n",
    "\n",
    "### 替變數命名限制：\n",
    "* 不可以和保留字重複（語法相關）\n",
    "* 不可以用數字開頭\n",
    "* 不可以含有空格\n",
    "\n",
    "Let's try！  \n",
    "**創造一個「List」，名為 「bag」，裡面放一個「apple」**"
   ]
  },
  {
   "cell_type": "code",
   "execution_count": null,
   "metadata": {
    "collapsed": false
   },
   "outputs": [],
   "source": [
    "bag = [\"apple\"]"
   ]
  },
  {
   "cell_type": "markdown",
   "metadata": {},
   "source": [
    "來看看包包有什麼：使用 ```print```函式："
   ]
  },
  {
   "cell_type": "code",
   "execution_count": null,
   "metadata": {
    "collapsed": false
   },
   "outputs": [],
   "source": [
    "print(bag)"
   ]
  },
  {
   "cell_type": "markdown",
   "metadata": {
    "collapsed": true
   },
   "source": [
    "很好！讓我們在包包加入一些東西！\n",
    "## 物件的方法  \n",
    "* 所有建立的物件都是 Python Object，Python會自動分辨其型別。  \n",
    "* 方法：每格型別有特別的「方法」（Method）可以呼叫，用「.」的方式標於物件後，用以傳回特定值或有特別操作。  \n",
    "比如說： ``` list.append( x )```  \n",
    "就會在「list」裡面加入「x」。  \n",
    "**請在包包裡加入「banana」與「lemon」**"
   ]
  },
  {
   "cell_type": "code",
   "execution_count": null,
   "metadata": {
    "collapsed": true
   },
   "outputs": [],
   "source": [
    "bag.append(\"banana\")"
   ]
  },
  {
   "cell_type": "markdown",
   "metadata": {},
   "source": [
    "Lemon 就留給你加入囉！\n",
    "[其他參考資料](https://docs.python.org/3.6/tutorial/datastructures.html)"
   ]
  },
  {
   "cell_type": "code",
   "execution_count": null,
   "metadata": {
    "collapsed": true
   },
   "outputs": [],
   "source": []
  },
  {
   "cell_type": "markdown",
   "metadata": {},
   "source": [
    "## 容器類索引  \n",
    "\n",
    "* 容器類包含：List、Tuple、Dictionary 等。\n",
    "* 取用容器內容（元素elements）時，可以使用「索引」（index）將其取出。\n",
    "* 索引夾在中括號中，置於容器型別後面。  \n",
    "* 注意：第一個內容索引從 「0」 開始。  \n",
    "* 舉例： 購物清單中第二個內容是什麼？\n",
    "```print( bag[1] )```  \n",
    "\n",
    "* 若要取一段，可以用「:」來取出，如：\n",
    "\n",
    "```n = [1,2,3,4,5]\u000b",
    "\n",
    "print( n[1:3] )```  \n",
    "**請印出「bag」裡第二個內容是什麼**"
   ]
  },
  {
   "cell_type": "code",
   "execution_count": null,
   "metadata": {
    "collapsed": true
   },
   "outputs": [],
   "source": [
    "print(bag[ ## ])"
   ]
  },
  {
   "cell_type": "markdown",
   "metadata": {},
   "source": [
    "***\n",
    "\n",
    "## 文字的方法\n",
    "* 初始化文字：使用單引號「’’」、雙引號「””」將文字括住。  \n",
    "* 長字串或長註解（包含換行）使用前後各使用三個引號括住。\u000b",
    "  \n",
    "\n",
    "```\n",
    "”””\n",
    "註解\n",
    "”””\n",
    "```\n",
    "### 格式化文字方法： format方法  \n",
    "```\n",
    "[[fill]align][sign][#][0][width][grouping_option][.precision][type]\n",
    "```  \n",
    "請你試試：  \n",
    "```\n",
    "”購物車第一項是 {0}，第二項是 {1}”.format( bag[0],bag[1] )\n",
    "```\n",
    "還有下面這句：\n",
    "```\n",
    "”3.1415取到第二位是{:.3}”.format(3.1415)\n",
    "```\n",
    "[更詳細的說明可以點這邊](https://docs.python.org/3.6/library/string.html#format-string-syntax)"
   ]
  },
  {
   "cell_type": "code",
   "execution_count": null,
   "metadata": {
    "collapsed": true
   },
   "outputs": [],
   "source": [
    "print(\"包包第一項是 {0}，第二項是 {1}\".format( bag[0],bag[1] ))"
   ]
  },
  {
   "cell_type": "code",
   "execution_count": null,
   "metadata": {
    "collapsed": true
   },
   "outputs": [],
   "source": []
  },
  {
   "cell_type": "markdown",
   "metadata": {},
   "source": [
    "***\n",
    "\n",
    "##for 迴圈\n",
    "\n",
    "* 對一陣列內物件做相同處理時非常好用。\n",
    "* 語法：  \n",
    "```\n",
    "for element in container:  \n",
    "    do something\n",
    "```\n",
    "* **element** 在每一次的循環中，都會被帶換成 container 內的物件。  \n",
    "舉例：  \n",
    "```\n",
    "for item in bag:  \n",
    "    print( item )\n",
    "```  \n",
    "另一種寫法：  \n",
    "```\n",
    "for i in range( len( bag ) ):\n",
    "    print( bag[i] )\n",
    "```\n",
    "\n",
    "\t* range( x ) ：產生 0 到 x-1 的（清單）\n",
    "\t* len( x ) ：傳回容器的長度。\n",
    "**請你嘗試將「bag裡面的物件印出到螢幕上」："
   ]
  },
  {
   "cell_type": "code",
   "execution_count": null,
   "metadata": {
    "collapsed": true
   },
   "outputs": [],
   "source": []
  },
  {
   "cell_type": "markdown",
   "metadata": {},
   "source": [
    "***\n",
    "\n",
    "## 撰寫與呼叫函式（Function）\n",
    "\n",
    "* 函式是預先定義好的一些操作，Python 3.6 內建68種函式可以使用，如 print() 。\n",
    "* 有些和資料型別相同的內建函式可幫我們轉換型別。\n",
    "* 呼叫函式時，請直接打上函式的名字，並將引數置於小括號內。\u000b",
    "```print(“Hello world”)```  \n",
    "* 定義一個自己的函式：使用「def」關鍵字。請看下面範例："
   ]
  },
  {
   "cell_type": "code",
   "execution_count": null,
   "metadata": {
    "collapsed": true
   },
   "outputs": [],
   "source": [
    "def avg(a,b):\n",
    "    c = (a+b)/2\n",
    "    return c"
   ]
  },
  {
   "cell_type": "markdown",
   "metadata": {},
   "source": [
    "這邊解釋一下上面的語法：  \n",
    "\n",
    "* def ：跟直譯器說我要開始定義新的函式了！\n",
    "* avg ：函式的名字，跟變數一樣的命名限制。\n",
    "* (a,b)：這格函式要接受幾格變數，並幫他們取小名「a」與「b」。\n",
    "* 「:」：表示本行宣告結束，下面是函式的內容。\n",
    "* **冒號後面代表要換下一階**，Python有個很嚴格的要求，就是「**階級分明**」！每個階級前面一定要有「**四個空格**」或「**一個tab**」。這邊將使用四個空格的撰寫習慣。\n",
    "* c = (a+b)/2：將變數**c**指派為**(a+b)/2**的結果  \n",
    "\t* Python 會先乘除後加減，()可以提高計算優先度\n",
    "\t* 補充：命名空間（Namespace）:程式在搜尋你指定的變數名稱時，會由內而外搜尋變數名稱。\n",
    "\t\t* 區域變數：定義在函式內部的變數，外部無法取用的參數。\n",
    "\t\t* 全域變數：定義在根層的變數，基本上在全部的位置都可以取用或更改。若要在函式裡面使用全域變數，需要加關鍵字 ```global```。  \n",
    "* return：指定函式的回傳值。\n",
    "\n",
    "函式定義好了以後，並不會自己執行！所以我們要呼叫函式：  \n",
    "```\n",
    "avg(2,8)\n",
    "```  \n",
    "若我們想要把結果指派給一個變數，可以這樣做：  \n",
    "```\n",
    "c = avg(2,8)\n",
    "```\n",
    "\n",
    "我們也可以指定函式變數的名稱，而不是依照位置傳入:\n",
    "```\n",
    "avg(b=10,a=5) \n",
    "```"
   ]
  },
  {
   "cell_type": "code",
   "execution_count": null,
   "metadata": {
    "collapsed": false
   },
   "outputs": [],
   "source": [
    "avg(b=10,a=20)"
   ]
  },
  {
   "cell_type": "markdown",
   "metadata": {},
   "source": [
    "下面定義了一個**print_name**的函式，請你用指定變數的方式傳入變數："
   ]
  },
  {
   "cell_type": "code",
   "execution_count": null,
   "metadata": {
    "collapsed": false
   },
   "outputs": [],
   "source": [
    "def print_name(name1,name2):\n",
    "    print(\"Name 1 is {}\\nName 2 is {}\".format(name1,name2))\n",
    "    #沒指定[]內的索引時，會依序從 format 的參數取用。\n",
    "    return\n",
    "\n",
    "print_name(name1=\"阿阿\",name2=\"怕黑黑\")"
   ]
  },
  {
   "cell_type": "markdown",
   "metadata": {},
   "source": [
    "***\n",
    "\n",
    "## 引入函式庫\n",
    "\n",
    "* 將一些函式打包給其他的腳本使用。多數的Python函式庫由Python寫成，使用其他語言的要經過特殊的編譯。（如Cyhton）\n",
    "* 使用「```import```」關鍵字。  \n",
    "* 在相同的工作資料夾下，不用打「.py」。比如要引入「lib.py」的檔案，則輸入：  \u000b",
    "```import lib```  \n",
    "\t* 引入 lib.py 後，我們變可以呼叫裡面的函式及其他物件。\n",
    "\t* 比如筆記本外面的資料夾有個 lib.py，裡面有個變數叫做「**version**」，有個函式叫做**now()**，讓我們呼叫看看:  \n",
    "\t```lib.version```  \n",
    "\t```lib.now()```  "
   ]
  },
  {
   "cell_type": "code",
   "execution_count": null,
   "metadata": {
    "collapsed": false
   },
   "outputs": [],
   "source": [
    "import lib"
   ]
  },
  {
   "cell_type": "code",
   "execution_count": null,
   "metadata": {
    "collapsed": false
   },
   "outputs": [],
   "source": []
  },
  {
   "cell_type": "markdown",
   "metadata": {},
   "source": [
    "* 引入部分函式時，可以用下面的語法：\n",
    "```from lib import now``` \n",
    "\n",
    "* 使用conda安裝的套件：直接 import 函式庫名：  \n",
    "```import numpy```\n",
    "\n",
    "* 通常為了方便，我們會將函式庫的名稱簡寫，可以使用「**as**關鍵字」，之後取用時就可以用簡寫稱之，如下面的語法："
   ]
  },
  {
   "cell_type": "code",
   "execution_count": null,
   "metadata": {
    "collapsed": true
   },
   "outputs": [],
   "source": [
    "import numpy as np\n",
    "import matplotlib.pyplot as plt"
   ]
  },
  {
   "cell_type": "code",
   "execution_count": null,
   "metadata": {
    "collapsed": true
   },
   "outputs": [],
   "source": []
  }
 ],
 "metadata": {
  "kernelspec": {
   "display_name": "Python 3",
   "language": "python",
   "name": "python3"
  },
  "language_info": {
   "codemirror_mode": {
    "name": "ipython",
    "version": 3
   },
   "file_extension": ".py",
   "mimetype": "text/x-python",
   "name": "python",
   "nbconvert_exporter": "python",
   "pygments_lexer": "ipython3",
   "version": "3.5.2"
  }
 },
 "nbformat": 4,
 "nbformat_minor": 1
}
